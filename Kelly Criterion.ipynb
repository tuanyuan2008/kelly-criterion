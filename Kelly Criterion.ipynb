{
 "cells": [
  {
   "cell_type": "markdown",
   "metadata": {},
   "source": [
    "# The Kelly Criterion and a Coin-Flipping Game"
   ]
  },
  {
   "cell_type": "markdown",
   "metadata": {},
   "source": [
    "This is heavily adapted from https://www.gwern.net/Coin-flip, but following a different prompt: \n",
    "\n",
    "You bet on a fair coin. If you bet correctly on heads, you get $\\$1$ for every $\\$0.40$ bet, and if you bet correctly on tails, you get $\\$1$ for every $\\$0.60$ bet. You start with $\\$100$; what do you do?  "
   ]
  },
  {
   "cell_type": "markdown",
   "metadata": {},
   "source": [
    "## Solution via the Kelly Criterion"
   ]
  },
  {
   "cell_type": "markdown",
   "metadata": {},
   "source": [
    "Let's first derive the solution without considering a profit cap or a time limit:\n",
    "\n",
    "First, notice that we should always bet on heads; the expected value of profit in one toss is $\\mathbb{E}V_H=\\frac{1}{2}\\cdot\\frac{3}{2}-\\frac{1}{2}=\\frac{1}{4},$ whereas betting on tails has $\\mathbb{E}V_T=\\frac{1}{2}\\cdot\\frac{2}{3}-\\frac{1}{2}=-\\frac{1}{6}.$ Now, we just need to determine the quantity, which is where the Kelly Criterion comes in handy.\n",
    "\n",
    "Let $n$ be the number of iterations we play this game. We can then write our profit as $d = (b+bpw)^{nq} + (b-bpl)^{n(1-q)},$ where $b$ is our starting amount, $p$ is the percentage of our money we bet in each round, $w$ is how much of our bet we make if we bet correctly, $q$ is our probability of betting correctly, and $l$ is how much of our bet we lose if we bet incorrectly.\n",
    "\n",
    "To get rid of the pesky exponents, take the logarithm of the above equation: $\\log{d}=nq\\log{(b+bpw)}+n(1-q)\\log{(b-bpl)}.$ To figure out which value $p$ maximizes our potential profit, take the derivative of the above equation with respect to $p$ and set to $0$: $\\frac{\\partial{d}}{\\partial{p}}=\\frac{nqbw}{b+bpw}-\\frac{n(1-q)bl}{b-bpl}=0.$ Solving,\n",
    "\\begin{align*}\n",
    "    \\frac{qw}{1+pw}=\\frac{(1-q)l}{1-pl}&\\rightarrow(1+pw)(1-q)l=qw(1-pl) \\\\\n",
    "    &\\rightarrow l+pwl-ql-pwql=qw-qwpl \\\\\n",
    "    &\\rightarrow pwl = qw+ql-l \\\\\n",
    "    &\\rightarrow p = \\frac{qw+ql-l}{wl}\n",
    "\\end{align*}"
   ]
  },
  {
   "cell_type": "markdown",
   "metadata": {},
   "source": [
    "Here, we have $b=100$, $w=\\frac{3}{2}$, $q=\\frac{1}{2}$, and $l=1$, giving us $p=\\frac{\\frac{3}{4}+\\frac{1}{2}-1}{\\frac{3}{2}}=\\frac{1}{6}$. Notice that we can derive the even money bet Kelly criterion formula $p=2q-1$ by setting $w,l=1$. Furthermore, neither the number of iterations $n$ nor the starting amount $b$ are factored into the final computation for the percentage of money bet $p$. "
   ]
  },
  {
   "cell_type": "markdown",
   "metadata": {},
   "source": [
    "## Optimality in the Markov Decision Process"
   ]
  },
  {
   "cell_type": "markdown",
   "metadata": {},
   "source": [
    "Let's introduce a $\\$250$ profit cap and $300$ round maximum as set in the original paper here https://arxiv.org/abs/1701.01427v1.\n",
    "\n",
    "It is clear that the expected value per flip is maximized by maximizing the percentage bet $p$, but we usually want to hedge against the chance of going bankrupt. However, this is not the case when we have one bet left. For instance, if $n=1$, our expected gain after the bet is $\\frac{1}{2}\\cdot\\frac{150}{6}-\\frac{1}{2}\\cdot\\frac{100}{6}=\\frac{25}{6}\\approx4.1667$, yet if we bet all, our expected gain rises to $\\frac{150}{2}-\\frac{100}{2}=25$. And given that it is our last bet, we don't lose out on potential future earnings."
   ]
  },
  {
   "cell_type": "markdown",
   "metadata": {},
   "source": [
    "Formulated as a Markov Decision Process, this is"
   ]
  },
  {
   "cell_type": "markdown",
   "metadata": {},
   "source": [
    "$$V(w,b)=\\max_{x\\in[0,w]}[0.5\\cdot V(\\min(w+1.5x,250),b-1)+0.5\\cdot V(w-x,b-1)]$$"
   ]
  },
  {
   "cell_type": "markdown",
   "metadata": {},
   "source": [
    "for wealth $w$ and number of bets remaining $b$. "
   ]
  },
  {
   "cell_type": "markdown",
   "metadata": {},
   "source": [
    "### OpenAI Gym Implementation"
   ]
  },
  {
   "cell_type": "markdown",
   "metadata": {},
   "source": [
    "https://github.com/openai/gym/blob/master/gym/envs/toy_text/kellycoinflip.py\n",
    "\n",
    "Let's also set the starting amount at $\\$25$ rather than $\\$100$ now."
   ]
  },
  {
   "cell_type": "code",
   "execution_count": 1,
   "metadata": {},
   "outputs": [],
   "source": [
    "# Modified flip function\n",
    "import numpy as np\n",
    "\n",
    "def flip(edge, np_random):\n",
    "    return 1.5 if np_random.uniform() < edge else -1\n",
    "\n",
    "def step_alt(obj, action):\n",
    "    bet_in_dollars = min(action/100.0, obj.wealth)\n",
    "    obj.rounds -= 1\n",
    "\n",
    "    coinflip = flip(obj.edge, obj.np_random)\n",
    "    obj.wealth = min(obj.max_wealth, obj.wealth + coinflip * bet_in_dollars)\n",
    "\n",
    "    done = obj.wealth < 0.01 or obj.wealth == obj.max_wealth or not obj.rounds\n",
    "    reward = obj.wealth if done else 0.0\n",
    "\n",
    "    return reward, done"
   ]
  },
  {
   "cell_type": "code",
   "execution_count": 2,
   "metadata": {},
   "outputs": [
    {
     "name": "stdout",
     "output_type": "stream",
     "text": [
      "Starting a new game...\n",
      "Current wealth:  25.0 ; Rounds left:  300\n",
      "Current wealth:  20.833333333333332 ; Rounds left:  299\n",
      "Current wealth:  25.550687918120126 ; Rounds left:  289\n",
      "Current wealth:  20.890804898853435 ; Rounds left:  279\n",
      "Current wealth:  25.62117294378908 ; Rounds left:  269\n",
      "Current wealth:  13.965623338302677 ; Rounds left:  259\n",
      "Current wealth:  11.418601071967572 ; Rounds left:  249\n",
      "Current wealth:  47.26400421711957 ; Rounds left:  239\n",
      "Current wealth:  57.966135432592104 ; Rounds left:  229\n",
      "Current wealth:  106.63737381055049 ; Rounds left:  219\n",
      "Current wealth:  196.17539462217303 ; Rounds left:  209\n",
      "Current wealth:  250.0 ; Rounds left:  207\n",
      "Reward: 250\n"
     ]
    }
   ],
   "source": [
    "# Running the experiment \n",
    "import gym\n",
    "\n",
    "env = gym.make('KellyCoinflip-v0')\n",
    "env.__init__(25.0, edge=0.5, max_wealth=250.0, max_rounds=300)\n",
    "\n",
    "while env.wealth < env.max_wealth:\n",
    "    env.reset()\n",
    "    rewards = []\n",
    "    print('Starting a new game...')\n",
    "    env.render()\n",
    "    while env.rounds > 0:\n",
    "        reward, done = step_alt(env, env.wealth*100/6) # bet w 16.66667% KC\n",
    "        rewards.append(env.wealth)\n",
    "        if done:\n",
    "            env.render()\n",
    "            break\n",
    "        if env.rounds % 10 == 9:\n",
    "            env.render()\n",
    "    print('Reward: %d' % reward)"
   ]
  },
  {
   "cell_type": "code",
   "execution_count": 4,
   "metadata": {},
   "outputs": [
    {
     "data": {
      "image/png": "[encoded data removed]",
      "text/plain": [
       "<Figure size 432x288 with 1 Axes>"
      ]
     },
     "metadata": {
      "needs_background": "light"
     },
     "output_type": "display_data"
    }
   ],
   "source": [
    "# Visualize earnings\n",
    "import matplotlib.pyplot as plt\n",
    "plt.plot(rewards, color='mediumslateblue')\n",
    "plt.title('Wealth per Round Using KC Strategy')\n",
    "plt.xlabel('Round #')\n",
    "plt.ylabel('Wealth ($)')\n",
    "plt.show()"
   ]
  },
  {
   "cell_type": "markdown",
   "metadata": {},
   "source": [
    "### Approach: Dynamic Programming"
   ]
  },
  {
   "cell_type": "markdown",
   "metadata": {},
   "source": [
    "We'll first take the top-down approach (memoization). We store $w\\cdot b$ elements with this technique and each call takes $w$ time, for a total time complexity of $\\mathcal{O}(w^2b)$."
   ]
  },
  {
   "cell_type": "code",
   "execution_count": 5,
   "metadata": {},
   "outputs": [],
   "source": [
    "import numpy as np\n",
    "import time\n",
    "\n",
    "def F(w, x, b):\n",
    "    return 0.5*V(min(w+1.5*x,250), b-1) + 0.5*V(w-x, b-1)\n",
    "\n",
    "def V(w, b):\n",
    "    if b>0 and w>0 and w<250:\n",
    "        if (w,b) in payoff_dict:\n",
    "            return payoff_dict[(w,b)]\n",
    "        else:\n",
    "            bets = np.arange(0, w, 0.01).tolist()\n",
    "            returns = [F(w,x,b) for x in bets]\n",
    "    else:\n",
    "        returns = [w]\n",
    "    bets_dict[(w,b)] = np.argmax(returns) * 0.01\n",
    "    payoff_dict[(w,b)] = max(returns)\n",
    "    return payoff_dict[(w,b)]\n",
    "\n",
    "def render(w, b):\n",
    "    processing_time = time.process_time()\n",
    "    best_gain = V(w, b)\n",
    "    best_bets = bets_dict[(w,b)]\n",
    "    print(\"With %0.2f and %d rounds, bet %0.2f with expected score %0.2f.\" %(w, b, best_bets, best_gain))\n",
    "    print(\"This procedure took %0.4f seconds for processing.\" %(time.process_time() - processing_time))\n",
    "\n",
    "# Maintain a global storage for memoized answers to subproblems.\n",
    "payoff_dict = {}\n",
    "bets_dict = {}"
   ]
  },
  {
   "cell_type": "code",
   "execution_count": 6,
   "metadata": {},
   "outputs": [
    {
     "name": "stdout",
     "output_type": "stream",
     "text": [
      "With 25.00 and 0 rounds, bet 0.00 with expected score 25.00.\n",
      "This procedure took 0.0002 seconds for processing.\n",
      "With 25.00 and 1 rounds, bet 24.99 with expected score 31.25.\n",
      "This procedure took 0.0985 seconds for processing.\n",
      "With 25.00 and 2 rounds, bet 24.99 with expected score 39.06.\n",
      "This procedure took 351.8831 seconds for processing.\n"
     ]
    }
   ],
   "source": [
    "render(25, 0)\n",
    "render(25, 1)\n",
    "render(25, 2)"
   ]
  },
  {
   "cell_type": "markdown",
   "metadata": {},
   "source": [
    "To optimize, let's utilize parallel processing."
   ]
  },
  {
   "cell_type": "code",
   "execution_count": 7,
   "metadata": {},
   "outputs": [],
   "source": [
    "# Synchronous version\n",
    "import multiprocessing\n",
    "\n",
    "def get_score():\n",
    "    with multiprocessing.Pool() as pool:\n",
    "        pool.starmap(render, [(25, rounds) for rounds in range(3)])\n",
    "        \n",
    "payoff_dict = {}\n",
    "bets_dict = {}"
   ]
  },
  {
   "cell_type": "code",
   "execution_count": 8,
   "metadata": {},
   "outputs": [
    {
     "name": "stdout",
     "output_type": "stream",
     "text": [
      "With 25.00 and 0 rounds, bet 0.00 with expected score 25.00.\n",
      "This procedure took 0.0067 seconds for processing.\n",
      "With 25.00 and 1 rounds, bet 24.99 with expected score 31.25.\n",
      "This procedure took 0.0927 seconds for processing.\n",
      "With 25.00 and 2 rounds, bet 24.99 with expected score 39.06.\n",
      "This procedure took 346.7385 seconds for processing.\n"
     ]
    }
   ],
   "source": [
    "get_score()"
   ]
  },
  {
   "cell_type": "code",
   "execution_count": 9,
   "metadata": {},
   "outputs": [
    {
     "name": "stdout",
     "output_type": "stream",
     "text": [
      "With 25.00 and 0 rounds, bet 0.00 with expected score 25.00.\n",
      "This procedure took 0.0059 seconds for processing.\n",
      "With 25.00 and 1 rounds, bet 24.99 with expected score 31.25.\n",
      "This procedure took 0.0997 seconds for processing.\n",
      "With 25.00 and 2 rounds, bet 24.99 with expected score 39.06.\n",
      "This procedure took 315.6204 seconds for processing.\n"
     ]
    }
   ],
   "source": [
    "# Asynchronous version\n",
    "def render(i, w, b):\n",
    "    processing_time = time.process_time()\n",
    "    best_gain = V(w, b)\n",
    "    best_bets = bets_dict[(w,b)]\n",
    "    print(\"With %0.2f and %d rounds, bet %0.2f with expected score %0.2f.\" %(w, b, best_bets, best_gain))\n",
    "    print(\"This procedure took %0.4f seconds for processing.\" %(time.process_time() - processing_time))\n",
    "    return i\n",
    "\n",
    "payoff_dict = {}\n",
    "bets_dict = {}\n",
    "\n",
    "with multiprocessing.Pool() as pool:\n",
    "    result_objects = [pool.starmap_async(render, [(i, 25, i) for i in range(3)])]\n",
    "    results = [r.get()[1] for r in result_objects]\n",
    "\n",
    "pool.close()\n",
    "pool.join()"
   ]
  },
  {
   "cell_type": "markdown",
   "metadata": {},
   "source": [
    "Now, let's take the bottom-up approach (tabulation)."
   ]
  },
  {
   "cell_type": "markdown",
   "metadata": {},
   "source": [
    "### Approach: Monte Carlo Simulations"
   ]
  },
  {
   "cell_type": "code",
   "execution_count": 10,
   "metadata": {},
   "outputs": [],
   "source": [
    "import numpy as np\n",
    "\n",
    "def game(strategy, wealth, bets_left):\n",
    "    if bets_left > 0:\n",
    "        bet = strategy(wealth, bets_left)\n",
    "        wealth -= bet\n",
    "        flip = np.random.binomial(1, 0.5, 1)[0]\n",
    "        winnings = 2.5*bet*flip\n",
    "        wealth = min(wealth+winnings, 250)\n",
    "        return game(strategy, wealth, bets_left-1)\n",
    "    else:\n",
    "        return wealth\n",
    "    \n",
    "def simulate_game(strategy, wealth, bets_left, iterations):\n",
    "    return np.mean(np.repeat(game(strategy, wealth, bets_left),iterations))\n",
    "\n",
    "def kelly(wealth, bets_left):\n",
    "    return wealth/6\n",
    "\n",
    "def smarter_kelly(wealth, bets_left):\n",
    "    if wealth == 250:\n",
    "        return 0\n",
    "    return wealth/6\n",
    "\n",
    "def random(wealth, bets_left):\n",
    "    return np.random.choice(np.linspace(start=0, stop=wealth, num=int(100*wealth+1)), 1)[0]\n",
    "        "
   ]
  },
  {
   "cell_type": "code",
   "execution_count": 11,
   "metadata": {},
   "outputs": [
    {
     "name": "stdout",
     "output_type": "stream",
     "text": [
      "25.0\n",
      "25.0\n",
      "25.0\n"
     ]
    }
   ],
   "source": [
    "print(simulate_game(kelly,25,0,10))\n",
    "print(simulate_game(smarter_kelly,25,0,10))\n",
    "print(simulate_game(random,25,0,10))"
   ]
  },
  {
   "cell_type": "code",
   "execution_count": 12,
   "metadata": {},
   "outputs": [
    {
     "name": "stdout",
     "output_type": "stream",
     "text": [
      "31.25\n",
      "31.25\n",
      "27.909999999999997\n"
     ]
    }
   ],
   "source": [
    "print(simulate_game(kelly,25,1,10))\n",
    "print(simulate_game(smarter_kelly,25,1,10))\n",
    "print(simulate_game(random,25,1,10))"
   ]
  },
  {
   "cell_type": "code",
   "execution_count": 13,
   "metadata": {},
   "outputs": [
    {
     "name": "stdout",
     "output_type": "stream",
     "text": [
      "250.0\n",
      "105.49515012229665\n",
      "0.0\n"
     ]
    }
   ],
   "source": [
    "print(simulate_game(kelly,25,150,10))\n",
    "print(simulate_game(smarter_kelly,25,150,10))\n",
    "print(simulate_game(random,25,150,10))"
   ]
  },
  {
   "cell_type": "code",
   "execution_count": 14,
   "metadata": {},
   "outputs": [
    {
     "name": "stdout",
     "output_type": "stream",
     "text": [
      "64.65566360325306\n",
      "250.0\n",
      "0.0\n"
     ]
    }
   ],
   "source": [
    "print(simulate_game(kelly,25,300,10))\n",
    "print(simulate_game(smarter_kelly,25,300,10))\n",
    "print(simulate_game(random,25,300,10))"
   ]
  },
  {
   "cell_type": "markdown",
   "metadata": {},
   "source": [
    "## Exact Value Function"
   ]
  },
  {
   "cell_type": "code",
   "execution_count": 15,
   "metadata": {},
   "outputs": [
    {
     "name": "stdout",
     "output_type": "stream",
     "text": [
      "Requirement already satisfied: repoze.lru in /usr/local/lib/python3.7/site-packages (0.7)\r\n"
     ]
    }
   ],
   "source": [
    "#TODO: Need to derive equation\n",
    "\n",
    "!pip install repoze.lru\n",
    "from scipy.stats import binom\n",
    "import numpy as np\n",
    "from repoze.lru import lru_cache\n",
    "\n",
    "def V(w, b, m=250):\n",
    "    if w>=250:\n",
    "        return 250\n",
    "    if w<=0:\n",
    "        return 0\n",
    "    if b==0:\n",
    "        return w\n",
    "    else:\n",
    "        try:\n",
    "            j = binom.ppf(float(w)/float(m), b, 0.5)\n",
    "            return 1.2**b * 1.5**-j * (w + m/2 *\n",
    "                sum(np.multiply(binom.cdf(list(map(lambda x2:x2-1, range(0,int(j+1)))),b,0.5),\n",
    "                    list(map(lambda x: 1.5**x, list(reversed(range(0, int(j+1)))))))))\n",
    "        except ValueError:\n",
    "            print(\"Error:\", (w,b,m))\n",
    "\n",
    "@lru_cache(None)\n",
    "def VPplan(w, b):\n",
    "    # optimization: short-circuit\n",
    "    if w<=0 or w>=250:\n",
    "        return 0\n",
    "    else:\n",
    "        if b==0:\n",
    "            return w\n",
    "        else:\n",
    "            possibleBets = map(lambda pb: float(pb)/100.0, range(0*100,int((w*100)+1),1))\n",
    "            returns = list(map(lambda pb: 0.6*V(w+pb, b-1) + 0.4*V(w-pb,b-1), possibleBets))\n",
    "            return float(returns.index(max(returns)))/100.0"
   ]
  },
  {
   "cell_type": "code",
   "execution_count": 16,
   "metadata": {},
   "outputs": [
    {
     "name": "stdout",
     "output_type": "stream",
     "text": [
      "Game 0 with 25.000000 wealth and 300 bets left: Bet 0.400000.\n",
      "Game 0 with 33.050000 wealth and 290 bets left: Bet 3.140000.\n",
      "Game 0 with 38.700000 wealth and 280 bets left: Bet 3.560000.\n",
      "Game 0 with 53.610000 wealth and 270 bets left: Bet 4.440000.\n",
      "Game 0 with 36.420000 wealth and 260 bets left: Bet 3.520000.\n",
      "Game 0 with 68.310000 wealth and 250 bets left: Bet 2.540000.\n",
      "Game 0 with 50.180000 wealth and 240 bets left: Bet 4.530000.\n",
      "Game 0 with 58.530000 wealth and 230 bets left: Bet 5.050000.\n",
      "Game 0 with 47.590000 wealth and 220 bets left: Bet 4.580000.\n",
      "Game 0 with 55.990000 wealth and 210 bets left: Bet 5.170000.\n",
      "Game 0 with 54.570000 wealth and 200 bets left: Bet 5.210000.\n",
      "Game 0 with 53.080000 wealth and 190 bets left: Bet 5.240000.\n",
      "Game 0 with 86.470000 wealth and 180 bets left: Bet 4.730000.\n",
      "Game 0 with 102.260000 wealth and 170 bets left: Bet 7.460000.\n",
      "Game 0 with 132.870000 wealth and 160 bets left: Bet 7.870000.\n",
      "Game 0 with 164.590000 wealth and 150 bets left: Bet 7.500000.\n",
      "Game 0 with 150.010000 wealth and 140 bets left: Bet 8.180000.\n",
      "Game 0 with 133.730000 wealth and 130 bets left: Bet 8.730000.\n",
      "Game 0 with 168.980000 wealth and 120 bets left: Bet 8.210000.\n",
      "Game 0 with 213.200000 wealth and 110 bets left: Bet 5.480000.\n",
      "Game 0 with 233.350000 wealth and 100 bets left: Bet 3.230000.\n",
      "Game 0 with 244.430000 wealth and 90 bets left: Bet 1.400000.\n",
      "Game 0 with 248.790000 wealth and 80 bets left: Bet 0.390000.\n",
      "Game 0 with 248.560000 wealth and 70 bets left: Bet 0.490000.\n",
      "Game 0 with 249.950000 wealth and 60 bets left: Bet 0.020000.\n",
      "Game 0 with 249.900000 wealth and 50 bets left: Bet 0.050000.\n",
      "Game 0 with 249.920000 wealth and 40 bets left: Bet 0.050000.\n",
      "Game 1 with 25.000000 wealth and 300 bets left: Bet 0.400000.\n",
      "Game 1 with 27.180000 wealth and 290 bets left: Bet 2.740000.\n",
      "Game 1 with 32.020000 wealth and 280 bets left: Bet 3.130000.\n",
      "Game 1 with 37.610000 wealth and 270 bets left: Bet 3.560000.\n",
      "Game 1 with 36.470000 wealth and 260 bets left: Bet 3.550000.\n",
      "Game 1 with 35.290000 wealth and 250 bets left: Bet 3.540000.\n",
      "Game 1 with 59.710000 wealth and 240 bets left: Bet 5.000000.\n",
      "Game 1 with 92.680000 wealth and 230 bets left: Bet 6.210000.\n",
      "Game 1 with 118.290000 wealth and 220 bets left: Bet 6.720000.\n",
      "Game 1 with 145.490000 wealth and 210 bets left: Bet 6.740000.\n",
      "Game 1 with 145.980000 wealth and 200 bets left: Bet 6.900000.\n",
      "Game 1 with 146.530000 wealth and 190 bets left: Bet 7.080000.\n",
      "Game 1 with 147.110000 wealth and 180 bets left: Bet 7.260000.\n",
      "Game 1 with 162.330000 wealth and 170 bets left: Bet 7.110000.\n",
      "Game 1 with 177.480000 wealth and 160 bets left: Bet 6.780000.\n",
      "Game 1 with 213.940000 wealth and 150 bets left: Bet 4.640000.\n",
      "Game 1 with 231.180000 wealth and 140 bets left: Bet 3.000000.\n",
      "Game 1 with 238.090000 wealth and 130 bets left: Bet 2.180000.\n",
      "Game 1 with 234.960000 wealth and 120 bets left: Bet 2.730000.\n",
      "Game 1 with 244.410000 wealth and 110 bets left: Bet 1.270000.\n",
      "Game 1 with 247.370000 wealth and 100 bets left: Bet 0.690000.\n",
      "Game 1 with 249.740000 wealth and 90 bets left: Bet 0.090000.\n",
      "Game 1 with 249.940000 wealth and 80 bets left: Bet 0.020000.\n",
      "Game 1 with 249.980000 wealth and 70 bets left: Bet 0.010000.\n",
      "Game 1 with 250.000000 wealth and 60 bets left: Bet 0.000000.\n",
      "Game 1 with 250.000000 wealth and 50 bets left: Bet 0.000000.\n",
      "Game 1 with 250.000000 wealth and 40 bets left: Bet 0.000000.\n",
      "Game 1 with 250.000000 wealth and 30 bets left: Bet 0.000000.\n",
      "Game 1 with 250.000000 wealth and 20 bets left: Bet 0.000000.\n",
      "Game 1 with 250.000000 wealth and 10 bets left: Bet 0.000000.\n",
      "Game 2 with 25.000000 wealth and 300 bets left: Bet 0.400000.\n",
      "Game 2 with 17.750000 wealth and 290 bets left: Bet 1.990000.\n",
      "Game 2 with 21.140000 wealth and 280 bets left: Bet 2.320000.\n",
      "Game 2 with 15.990000 wealth and 270 bets left: Bet 1.900000.\n",
      "Game 2 with 8.980000 wealth and 260 bets left: Bet 1.220000.\n",
      "Game 2 with 14.210000 wealth and 250 bets left: Bet 1.810000.\n",
      "Game 2 with 17.180000 wealth and 240 bets left: Bet 2.140000.\n",
      "Game 2 with 12.380000 wealth and 230 bets left: Bet 1.690000.\n",
      "Game 2 with 15.100000 wealth and 220 bets left: Bet 2.020000.\n",
      "Game 2 with 14.030000 wealth and 210 bets left: Bet 1.950000.\n",
      "Game 2 with 9.600000 wealth and 200 bets left: Bet 1.470000.\n",
      "Game 2 with 11.860000 wealth and 190 bets left: Bet 1.790000.\n",
      "Game 2 with 14.670000 wealth and 180 bets left: Bet 2.180000.\n",
      "Game 2 with 6.860000 wealth and 170 bets left: Bet 1.210000.\n",
      "Game 2 with 22.350000 wealth and 160 bets left: Bet 3.200000.\n",
      "Game 2 with 27.570000 wealth and 150 bets left: Bet 3.850000.\n",
      "Game 2 with 25.590000 wealth and 140 bets left: Bet 3.770000.\n",
      "Game 2 with 53.750000 wealth and 130 bets left: Bet 6.420000.\n",
      "Game 2 with 81.010000 wealth and 120 bets left: Bet 8.240000.\n",
      "Game 2 with 79.220000 wealth and 110 bets left: Bet 8.510000.\n",
      "Game 2 with 95.540000 wealth and 100 bets left: Bet 9.560000.\n",
      "Game 2 with 114.520000 wealth and 90 bets left: Bet 10.480000.\n",
      "Game 2 with 113.880000 wealth and 80 bets left: Bet 11.120000.\n",
      "Game 2 with 113.120000 wealth and 70 bets left: Bet 11.880000.\n",
      "Game 2 with 112.180000 wealth and 60 bets left: Bet 12.820000.\n",
      "Game 2 with 139.030000 wealth and 50 bets left: Bet 14.030000.\n",
      "Game 2 with 170.520000 wealth and 40 bets left: Bet 14.180000.\n",
      "Game 2 with 143.080000 wealth and 30 bets left: Bet 18.060000.\n",
      "Game 2 with 102.980000 wealth and 20 bets left: Bet 22.020000.\n",
      "Game 2 with 236.310000 wealth and 10 bets left: Bet 8.800000.\n",
      "Game 3 with 25.000000 wealth and 300 bets left: Bet 0.400000.\n",
      "Game 3 with 22.080000 wealth and 290 bets left: Bet 2.360000.\n",
      "Game 3 with 16.880000 wealth and 280 bets left: Bet 1.950000.\n",
      "Game 3 with 12.520000 wealth and 270 bets left: Bet 1.570000.\n",
      "Game 3 with 19.210000 wealth and 260 bets left: Bet 2.240000.\n",
      "Game 3 with 23.010000 wealth and 250 bets left: Bet 2.610000.\n",
      "Game 3 with 50.170000 wealth and 240 bets left: Bet 4.540000.\n",
      "Game 3 with 48.920000 wealth and 230 bets left: Bet 4.560000.\n",
      "Game 3 with 47.610000 wealth and 220 bets left: Bet 4.580000.\n",
      "Game 3 with 66.830000 wealth and 210 bets left: Bet 5.680000.\n",
      "Game 3 with 104.010000 wealth and 200 bets left: Bet 6.900000.\n",
      "Game 3 with 160.380000 wealth and 190 bets left: Bet 6.780000.\n",
      "Game 3 with 187.190000 wealth and 180 bets left: Bet 5.940000.\n",
      "Game 3 with 200.140000 wealth and 170 bets left: Bet 5.360000.\n",
      "Game 3 with 212.000000 wealth and 160 bets left: Bet 4.660000.\n",
      "Game 3 with 229.370000 wealth and 150 bets left: Bet 3.100000.\n",
      "Game 3 with 231.180000 wealth and 140 bets left: Bet 3.000000.\n",
      "Game 3 with 241.830000 wealth and 130 bets left: Bet 1.570000.\n",
      "Game 3 with 243.150000 wealth and 120 bets left: Bet 1.440000.\n",
      "Game 3 with 241.300000 wealth and 110 bets left: Bet 1.830000.\n",
      "Game 3 with 238.920000 wealth and 100 bets left: Bet 2.340000.\n",
      "Game 3 with 240.930000 wealth and 90 bets left: Bet 2.100000.\n",
      "Game 3 with 248.790000 wealth and 80 bets left: Bet 0.390000.\n",
      "Game 3 with 249.320000 wealth and 70 bets left: Bet 0.240000.\n",
      "Game 3 with 249.870000 wealth and 60 bets left: Bet 0.060000.\n",
      "Game 4 with 25.000000 wealth and 300 bets left: Bet 0.400000.\n",
      "Game 4 with 33.060000 wealth and 290 bets left: Bet 3.140000.\n",
      "Game 4 with 38.700000 wealth and 280 bets left: Bet 3.560000.\n",
      "Game 4 with 45.170000 wealth and 270 bets left: Bet 4.000000.\n",
      "Game 4 with 44.030000 wealth and 260 bets left: Bet 4.020000.\n",
      "Game 4 with 60.840000 wealth and 250 bets left: Bet 4.960000.\n",
      "Game 4 with 93.380000 wealth and 240 bets left: Bet 6.110000.\n",
      "Game 4 with 92.720000 wealth and 230 bets left: Bet 6.230000.\n",
      "Game 4 with 104.970000 wealth and 220 bets left: Bet 6.600000.\n",
      "Game 4 with 91.270000 wealth and 210 bets left: Bet 6.490000.\n",
      "Game 4 with 90.470000 wealth and 200 bets left: Bet 6.630000.\n",
      "Game 4 with 76.460000 wealth and 190 bets left: Bet 6.370000.\n",
      "Game 4 with 75.220000 wealth and 180 bets left: Bet 6.480000.\n",
      "Game 4 with 87.680000 wealth and 170 bets left: Bet 7.120000.\n",
      "Game 4 with 117.110000 wealth and 160 bets left: Bet 7.860000.\n",
      "Game 4 with 164.570000 wealth and 150 bets left: Bet 7.480000.\n",
      "Game 4 with 165.900000 wealth and 140 bets left: Bet 7.720000.\n",
      "Game 4 with 150.910000 wealth and 130 bets left: Bet 8.460000.\n",
      "Game 4 with 134.080000 wealth and 120 bets left: Bet 9.080000.\n",
      "Game 4 with 153.120000 wealth and 110 bets left: Bet 9.150000.\n"
     ]
    },
    {
     "name": "stdout",
     "output_type": "stream",
     "text": [
      "Game 4 with 115.050000 wealth and 100 bets left: Bet 9.950000.\n",
      "Game 4 with 175.190000 wealth and 90 bets left: Bet 9.180000.\n",
      "Game 4 with 222.680000 wealth and 80 bets left: Bet 5.240000.\n",
      "Game 4 with 235.030000 wealth and 70 bets left: Bet 3.540000.\n",
      "Game 4 with 238.440000 wealth and 60 bets left: Bet 3.130000.\n",
      "Game 4 with 245.890000 wealth and 50 bets left: Bet 1.440000.\n",
      "Game 4 with 247.920000 wealth and 40 bets left: Bet 0.890000.\n",
      "Game 4 with 249.830000 wealth and 30 bets left: Bet 0.110000.\n",
      "250.0\n"
     ]
    }
   ],
   "source": [
    "import gym\n",
    "env = gym.make('KellyCoinflip-v0')\n",
    "\n",
    "## play 5 games and calculate mean reward:\n",
    "rewards = []\n",
    "for n in range(5):\n",
    "    done = False\n",
    "    reward = 0\n",
    "    while not done:\n",
    "        w = env._get_obs()[0][0]\n",
    "        b = env._get_obs()[1]\n",
    "        bet = VPplan(w, b)\n",
    "        results = env.step(bet*100)\n",
    "        if env.rounds % 10 == 9:\n",
    "            print(\"Game %d with %f wealth and %d bets left: Bet %f.\" %(n, w, b, bet))\n",
    "        reward = reward+results[1]\n",
    "        done = results[2]\n",
    "    rewards.append(reward)\n",
    "    env.reset()\n",
    "\n",
    "print(sum(rewards)/len(rewards))"
   ]
  },
  {
   "cell_type": "markdown",
   "metadata": {},
   "source": [
    "### Approximating the Exact Value Function with Machine Learning"
   ]
  },
  {
   "cell_type": "markdown",
   "metadata": {},
   "source": [
    "#TODO: POMDPS"
   ]
  },
  {
   "cell_type": "code",
   "execution_count": null,
   "metadata": {},
   "outputs": [],
   "source": []
  }
 ],
 "metadata": {
  "kernelspec": {
   "display_name": "Python 3.7.4 64-bit",
   "language": "python",
   "name": "python37464bit5a06139154784f7082b34e4572a2fa43"
  },
  "language_info": {
   "codemirror_mode": {
    "name": "ipython",
    "version": 3
   },
   "file_extension": ".py",
   "mimetype": "text/x-python",
   "name": "python",
   "nbconvert_exporter": "python",
   "pygments_lexer": "ipython3",
   "version": "3.7.4"
  }
 },
 "nbformat": 4,
 "nbformat_minor": 4
}
